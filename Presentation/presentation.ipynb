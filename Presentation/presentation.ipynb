{
 "cells": [
  {
   "cell_type": "markdown",
   "id": "9e804a5b",
   "metadata": {},
   "source": [
    "---\n",
    "title: \"Habits\"\n",
    "author: \"John Doe\"\n",
    "format: \n",
    "    revealjs:\n",
    "        theme: dark\n",
    "        slide-number: true\n",
    "        transition: slide\n",
    "        background-transition: fade\n",
    "        \n",
    "        \n",
    "---"
   ]
  },
  {
   "cell_type": "markdown",
   "id": "740fb66d",
   "metadata": {},
   "source": [
    "## Getting up\n",
    "\n",
    "- Turn off alarm\n",
    "- Get out of bed\n",
    "\n",
    "## Going to sleep\n",
    "\n",
    "- Get in bed\n",
    "- Count sheep"
   ]
  }
 ],
 "metadata": {
  "kernelspec": {
   "display_name": ".venv",
   "language": "python",
   "name": "python3"
  },
  "language_info": {
   "name": "python",
   "version": "3.11.9"
  }
 },
 "nbformat": 4,
 "nbformat_minor": 5
}
