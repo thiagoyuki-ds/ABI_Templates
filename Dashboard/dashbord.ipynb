{
 "cells": [
  {
   "cell_type": "markdown",
   "id": "3085beee",
   "metadata": {},
   "source": [
    "--- \n",
    "title: \"DTC Seller Portfolio Experimentation\"\n",
    "description: \"This is a dashboard to visualize the DTC Seller Portfolio Experimentation\"\n",
    "author: \"[Global Testops]\"\n",
    "standalone: true\n",
    "embed-resources: true\n",
    "format: \n",
    "    dashboard:\n",
    "        theme: \n",
    "            - darkly\n",
    "            - custom.scss\n",
    "        scrolling: true\n",
    "        logo: img/logo.png\n",
    "        nav-buttons: \n",
    "            - TestOps\n",
    "            - icon: gitlab\n",
    "              href: https://testops.ab-inbev.com/\n",
    "\n",
    "---"
   ]
  },
  {
   "cell_type": "markdown",
   "id": "8ea8b84e",
   "metadata": {},
   "source": [
    "# Page 1"
   ]
  },
  {
   "cell_type": "markdown",
   "id": "0d4a7025",
   "metadata": {},
   "source": [
    "## Column"
   ]
  },
  {
   "cell_type": "markdown",
   "id": "426d6a46",
   "metadata": {},
   "source": []
  },
  {
   "cell_type": "markdown",
   "id": "a62cfb16",
   "metadata": {},
   "source": [
    "Generic text"
   ]
  },
  {
   "cell_type": "markdown",
   "id": "d108c691",
   "metadata": {},
   "source": [
    "# Page 2"
   ]
  }
 ],
 "metadata": {
  "kernelspec": {
   "display_name": ".venv",
   "language": "python",
   "name": "python3"
  },
  "language_info": {
   "codemirror_mode": {
    "name": "ipython",
    "version": 3
   },
   "file_extension": ".py",
   "mimetype": "text/x-python",
   "name": "python",
   "nbconvert_exporter": "python",
   "pygments_lexer": "ipython3",
   "version": "3.11.9"
  }
 },
 "nbformat": 4,
 "nbformat_minor": 5
}
