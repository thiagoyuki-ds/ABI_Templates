{
 "cells": [
  {
   "cell_type": "markdown",
   "id": "82471a4c",
   "metadata": {
    "vscode": {
     "languageId": "plaintext"
    }
   },
   "source": [
    "---\n",
    "title-block-banner: \"#000000\"\n",
    "title: \"Title of the report\"\n",
    "subtitle: \"Subtitle of the report\"\n",
    "author: \n",
    "    - name: \"Thiago Yuki\"\n",
    "      email: \"thiago.yuki@ab-inbev.com\"\n",
    "      affiliation: \"Global TestOps\"\n",
    "    - name: \"Alexandre Negretti\"\n",
    "      email: \"alexandre.negretti@ab-inbev.com\"\n",
    "      affiliation: \"Global TestOps\"\n",
    "    - name: \"Sonja Bitencourte\"\n",
    "      email: \"Sonja.Bitencourte-ext@ab-Inbev.com\"\n",
    "      affiliation: \"Global TestOps\"\n",
    "    - name: \"Alessandra Bergfeld\"\n",
    "      email: alessandra.bergfeld@ab-inbev.com\"\n",
    "      affiliation: \"Global TestOps\"\n",
    "date: last-modified\n",
    "date-format: \"DD/MM/YYYY\"\n",
    "format: \n",
    "    html:\n",
    "        other-links:\n",
    "        - text: Loop Documentation\n",
    "          href: https://google.com.br\n",
    "        code-links:\n",
    "        - text: Data Processing Notebook \n",
    "          icon: file-code\n",
    "          href: https://google.com.br\n",
    "        - text: Databricks Notebook\n",
    "          icon: file-code\n",
    "          href: https://google.com.br        \n",
    "        embed-resources: true\n",
    "        smooth-scroll: true\n",
    "        theme: ab-inbev-theme\n",
    "        css: [styles.css]\n",
    "        toc: true # Gera um sumário automático\n",
    "        toc-depth: 2\n",
    "        number-sections: true\n",
    "        fig-width: 6\n",
    "        fig-height: 4\n",
    "        fig-align: center\n",
    "        code-fold: true\n",
    "        code-summary: \"Show code\"\n",
    "bibliography: references.bib\n",
    "execute:\n",
    "    cache: true\n",
    "---"
   ]
  },
  {
   "cell_type": "markdown",
   "id": "98536594",
   "metadata": {},
   "source": [
    "# Introduction"
   ]
  },
  {
   "cell_type": "markdown",
   "id": "0bf82cd5",
   "metadata": {},
   "source": [
    "Describe the context of the report and the objective of the analysis."
   ]
  },
  {
   "cell_type": "markdown",
   "id": "9e5837f0",
   "metadata": {},
   "source": [
    "# Methodology"
   ]
  },
  {
   "cell_type": "code",
   "execution_count": null,
   "id": "f5eb058e",
   "metadata": {},
   "outputs": [],
   "source": [
    "# Required Libraries\n",
    "import pandas as pd # Data Manipulation\n",
    "import matplotlib.pyplot as plt # Graphcs\n",
    "import json # For JSON manipulation"
   ]
  },
  {
   "cell_type": "markdown",
   "id": "0f5772e0",
   "metadata": {},
   "source": [
    "Describe here the methodology used to generate the report."
   ]
  },
  {
   "cell_type": "markdown",
   "id": "468c96f6",
   "metadata": {},
   "source": [
    "## Load the data"
   ]
  },
  {
   "cell_type": "markdown",
   "id": "40106fbf",
   "metadata": {},
   "source": [
    "The data loaded were prepared in the [Databricks notebook](https://adb-1573852992022973.13.azuredatabricks.net/editor/notebooks/454826864967502?o=1573852992022973). The data is stored in a parquet file and it contains the following columns:"
   ]
  },
  {
   "cell_type": "markdown",
   "id": "01424145",
   "metadata": {},
   "source": [
    "# Results and Discussions"
   ]
  },
  {
   "cell_type": "markdown",
   "id": "c91b3520",
   "metadata": {},
   "source": [
    "# Conclusion"
   ]
  }
 ],
 "metadata": {
  "kernelspec": {
   "display_name": ".venv",
   "language": "python",
   "name": "python3"
  },
  "language_info": {
   "codemirror_mode": {
    "name": "ipython",
    "version": 3
   },
   "file_extension": ".py",
   "mimetype": "text/x-python",
   "name": "python",
   "nbconvert_exporter": "python",
   "pygments_lexer": "ipython3",
   "version": "3.11.9"
  }
 },
 "nbformat": 4,
 "nbformat_minor": 5
}
